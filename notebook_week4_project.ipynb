{
    "cells": [
        {
            "metadata": {
                "collapsed": true
            },
            "cell_type": "markdown",
            "source": "### The Battle of Neighborhoods|\n### Business Proposal |\n### Introduction:\nAlberta,Canada is a province of Canada. With an estimated population of 4,067,175 people as of the 2016 census,it is Canada's fourth most populous province and the most populous of Canada's three prairie provinces. Its area is about 660,000 square kilometres (250,000 sq mi). Canada is one of the most safe, secure and happy nations on the planet with numerous additional perks from polar bears to the Northern Lights. Thousands of individuals make the move across the Atlantic every year in search of better Cafe, School, Super market, medical shops, grocery shops, mall, theatre, hospitals. \nThis Project aim to create an analysis of features for individuals migrating to Alberta to search for the best neighbourhood as a proportional analysis between neighbourhoods. The features include median housing price and better school according to ratings, crime rates of that particular area, road connectivity, weather conditions, good management for emergency, water resources both fresh and waste water and excrement conveyed in sewers and recreational facilities.\nIt will help persons to get cognizance of the area and neighbourhood before moving into a new city, state, country."
        },
        {
            "metadata": {},
            "cell_type": "markdown",
            "source": "### Problem Which Tried to Solve:\nDue to the diverse and rich culture of Canada, this project tries to suggest analysis and awareness of better neighbourhoods for persons to visit or settle down in. It also tries to profer solution of connectivity in terms of proximity to airport, bus stops/stand, city centres, markets, schools, cinemas, hospital, joint and recreational activities.\n1.\tSorted list of houses in terms of housing prices in a ascending or descending order.\n\n2.\tSorted list of schools in terms of location, fees, rating and reviews."
        },
        {
            "metadata": {},
            "cell_type": "markdown",
            "source": "### LOCATION:\nAlberta, Canada is is a province of Canada. With an estimated population of 4,067,175 people as of the 2016 census, it is Canada's fourth most populous province and the most populous of Canada's three prairie provinces. Its area is about 660,000 square kilometres (250,000 sq mi). Alberta and Saskatchewan were formerly districts of the Northwest Territories until they were established as provinces on September 1, 1905. Alberta's capital, Edmonton, is near the geographic centre of the province and is the primary supply and service hub for Canada's crude oil, the Athabasca oil sands and other northern resource industries.Tourist destinations in the province include: Banff, Canmore, Drumheller, Jasper, Sylvan Lake and Lake Louise. Alberta is home to six UNESCO World Heritage Sites: the Canadian Rocky Mountain Parks, Dinosaur Provincial Park, the Head-Smashed-In Buffalo Jump, Waterton\u2013Glacier International Peace Park, Wood Buffalo National Park, and Writing-on-Stone / \u00c1\u00eds\u00ednai'pi.\nAlberta, with an area of 661,848 km2 (255,500 sq mi), is the fourth-largest province after Quebec, Ontario and British Columbia.\nAlberta's southern border is the 49th parallel north, which separates it from the U.S. state of Montana; while the 60th parallel north divides it from the Northwest Territories. The 110th meridian west separates it from the province of Saskatchewan; while on the west its boundary with British Columbia follows the 120th meridian west south from the Northwest Territories at 60\u00b0N until it reaches the Continental Divide at the Rocky Mountains, and from that point follows the line of peaks marking the Continental Divide in a generally southeasterly direction until it reaches the Montana border at 49\u00b0N."
        },
        {
            "metadata": {},
            "cell_type": "markdown",
            "source": "### Foursquare API:\nThis project would use Four-square API as its prime data gathering source as it has a database of millions of places, especially their places API which provides the ability to perform location search, location sharing and details about a business.\n"
        },
        {
            "metadata": {},
            "cell_type": "markdown",
            "source": "### Work Flow:\nUsing credentials of Foursquare API features of near-by places of the neighborhoods would be mined. Due to http request limitations the number of places per neighborhood parameter would reasonably be set to 100 and the radius parameter would be set to 500."
        },
        {
            "metadata": {},
            "cell_type": "markdown",
            "source": "### Clustering Approach:\nTo compare the similarities of two cities, we decided to explore neighborhoods, segment them, and group them into clusters to find similar neighborhoods in a big city like New York, Canada. In orderto do that, we need to cluster data which is a form of unsupervised machine learning: k-means clustering algorithm."
        },
        {
            "metadata": {},
            "cell_type": "markdown",
            "source": "### Libraries Which are Used to Develope the Project:\u00b6\nPandas: For creating and manipulating dataframes.\n\nFolium: Python visualization library would be used to visualize the neighborhoods cluster distribution of using interactive leaflet map.\n\nScikit Learn: For importing k-means clustering.\n\nJSON: Library to handle JSON files.\n\nXML: To separate data from presentation and XML stores data in plain text format.\n\nGeocoder: To retrieve Location Data.\n\nBeautiful Soup and Requests: To scrap and library to handle http requests.\n\nMatplotlib: Python Plotting Module."
        }
    ],
    "metadata": {
        "kernelspec": {
            "name": "python3",
            "display_name": "Python 3.6",
            "language": "python"
        },
        "language_info": {
            "name": "python",
            "version": "3.6.9",
            "mimetype": "text/x-python",
            "codemirror_mode": {
                "name": "ipython",
                "version": 3
            },
            "pygments_lexer": "ipython3",
            "nbconvert_exporter": "python",
            "file_extension": ".py"
        }
    },
    "nbformat": 4,
    "nbformat_minor": 1
}